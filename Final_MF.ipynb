{
  "nbformat": 4,
  "nbformat_minor": 0,
  "metadata": {
    "colab": {
      "provenance": [],
      "gpuType": "T4",
      "mount_file_id": "1TQ8F1q37YKw1fYn59w4AQgP2OeI8SDFR",
      "authorship_tag": "ABX9TyPECIaWYRmvLrjPNXYsiJrk",
      "include_colab_link": true
    },
    "kernelspec": {
      "name": "python3",
      "display_name": "Python 3"
    },
    "language_info": {
      "name": "python"
    },
    "accelerator": "GPU"
  },
  "cells": [
    {
      "cell_type": "markdown",
      "metadata": {
        "id": "view-in-github",
        "colab_type": "text"
      },
      "source": [
        "<a href=\"https://colab.research.google.com/github/Kkhokho/Movie_Recommendation_System/blob/main/Final_MF.ipynb\" target=\"_parent\"><img src=\"https://colab.research.google.com/assets/colab-badge.svg\" alt=\"Open In Colab\"/></a>"
      ]
    },
    {
      "cell_type": "code",
      "execution_count": 1,
      "metadata": {
        "id": "RuIKrdvRgyOi"
      },
      "outputs": [],
      "source": [
        "import pandas as pd\n",
        "import numpy as np\n",
        "import torch\n",
        "import torch.nn as nn\n",
        "import torch.optim as optim\n",
        "from torch.utils.data import Dataset, DataLoader"
      ]
    },
    {
      "cell_type": "code",
      "source": [
        "user_cols = ['user_id','age','sex','job','zipcode']\n",
        "ratings_cols = ['user_id', 'movie_id', 'rating', 'unix_timestamp']\n",
        "genre_cols = [\n",
        "    \"genre_unknown\", \"Action\", \"Adventure\", \"Animation\", \"Children\", \"Comedy\",\n",
        "    \"Crime\", \"Documentary\", \"Drama\", \"Fantasy\", \"Film-Noir\", \"Horror\",\n",
        "    \"Musical\", \"Mystery\", \"Romance\", \"Sci-Fi\", \"Thriller\", \"War\", \"Western\"\n",
        "]\n",
        "movies_cols = [\n",
        "    'movie_id', 'title', 'release_date', \"video_release_date\", \"imdb_url\"\n",
        "] + genre_cols"
      ],
      "metadata": {
        "id": "fUiqo5Qwg6Yo"
      },
      "execution_count": 2,
      "outputs": []
    },
    {
      "cell_type": "code",
      "source": [
        "users = pd.read_csv('/content/drive/MyDrive/ml-100k/u.user',sep='|', names=user_cols, encoding='latin-1')\n",
        "ratings = pd.read_csv('/content/drive/MyDrive/ml-100k/u.data',sep='\\t', names=ratings_cols, encoding='latin-1')\n",
        "movies = pd.read_csv('/content/drive/MyDrive/ml-100k/u.item', sep='|', names=movies_cols, encoding='latin-1')"
      ],
      "metadata": {
        "id": "8fM57705g7DH"
      },
      "execution_count": 72,
      "outputs": []
    },
    {
      "cell_type": "code",
      "source": [
        "users.info()"
      ],
      "metadata": {
        "colab": {
          "base_uri": "https://localhost:8080/"
        },
        "id": "RLQKU8wZjXCw",
        "outputId": "ad5af876-9441-4315-ea2a-74fd3aa8f922"
      },
      "execution_count": null,
      "outputs": [
        {
          "output_type": "stream",
          "name": "stdout",
          "text": [
            "<class 'pandas.core.frame.DataFrame'>\n",
            "RangeIndex: 943 entries, 0 to 942\n",
            "Data columns (total 5 columns):\n",
            " #   Column   Non-Null Count  Dtype \n",
            "---  ------   --------------  ----- \n",
            " 0   user_id  943 non-null    int64 \n",
            " 1   age      943 non-null    int64 \n",
            " 2   sex      943 non-null    object\n",
            " 3   job      943 non-null    object\n",
            " 4   zipcode  943 non-null    object\n",
            "dtypes: int64(2), object(3)\n",
            "memory usage: 37.0+ KB\n"
          ]
        }
      ]
    },
    {
      "cell_type": "code",
      "source": [
        "ratings.info()"
      ],
      "metadata": {
        "colab": {
          "base_uri": "https://localhost:8080/"
        },
        "id": "rS3u1RTvjb6y",
        "outputId": "bc6316ac-87b6-4a4d-8359-d122c8f464d3"
      },
      "execution_count": null,
      "outputs": [
        {
          "output_type": "stream",
          "name": "stdout",
          "text": [
            "<class 'pandas.core.frame.DataFrame'>\n",
            "RangeIndex: 100000 entries, 0 to 99999\n",
            "Data columns (total 4 columns):\n",
            " #   Column          Non-Null Count   Dtype\n",
            "---  ------          --------------   -----\n",
            " 0   user_id         100000 non-null  int64\n",
            " 1   movie_id        100000 non-null  int64\n",
            " 2   rating          100000 non-null  int64\n",
            " 3   unix_timestamp  100000 non-null  int64\n",
            "dtypes: int64(4)\n",
            "memory usage: 3.1 MB\n"
          ]
        }
      ]
    },
    {
      "cell_type": "code",
      "source": [
        "movies.info()"
      ],
      "metadata": {
        "colab": {
          "base_uri": "https://localhost:8080/"
        },
        "id": "I6WJzE_pjdsQ",
        "outputId": "cc077c88-1659-4812-abc5-11b1240d5bce"
      },
      "execution_count": null,
      "outputs": [
        {
          "output_type": "stream",
          "name": "stdout",
          "text": [
            "<class 'pandas.core.frame.DataFrame'>\n",
            "RangeIndex: 1682 entries, 0 to 1681\n",
            "Data columns (total 24 columns):\n",
            " #   Column              Non-Null Count  Dtype  \n",
            "---  ------              --------------  -----  \n",
            " 0   movie_id            1682 non-null   int64  \n",
            " 1   title               1682 non-null   object \n",
            " 2   release_date        1681 non-null   object \n",
            " 3   video_release_date  0 non-null      float64\n",
            " 4   imdb_url            1679 non-null   object \n",
            " 5   genre_unknown       1682 non-null   int64  \n",
            " 6   Action              1682 non-null   int64  \n",
            " 7   Adventure           1682 non-null   int64  \n",
            " 8   Animation           1682 non-null   int64  \n",
            " 9   Children            1682 non-null   int64  \n",
            " 10  Comedy              1682 non-null   int64  \n",
            " 11  Crime               1682 non-null   int64  \n",
            " 12  Documentary         1682 non-null   int64  \n",
            " 13  Drama               1682 non-null   int64  \n",
            " 14  Fantasy             1682 non-null   int64  \n",
            " 15  Film-Noir           1682 non-null   int64  \n",
            " 16  Horror              1682 non-null   int64  \n",
            " 17  Musical             1682 non-null   int64  \n",
            " 18  Mystery             1682 non-null   int64  \n",
            " 19  Romance             1682 non-null   int64  \n",
            " 20  Sci-Fi              1682 non-null   int64  \n",
            " 21  Thriller            1682 non-null   int64  \n",
            " 22  War                 1682 non-null   int64  \n",
            " 23  Western             1682 non-null   int64  \n",
            "dtypes: float64(1), int64(20), object(3)\n",
            "memory usage: 315.5+ KB\n"
          ]
        }
      ]
    },
    {
      "cell_type": "code",
      "source": [
        "users[\"user_id\"] = users[\"user_id\"].astype(int)\n",
        "movies['release_date'] = movies['release_date'].fillna('0-0-0')\n",
        "# Since the ids start at 1, we shift them to start at 0\n",
        "users[\"user_id\"] = users[\"user_id\"].apply(lambda x: str(x-1))\n",
        "movies[\"movie_id\"] = movies[\"movie_id\"].apply(lambda x: str(x-1))\n",
        "movies[\"year\"] = movies['release_date'].apply(lambda x: int(str(x).split('-')[-1]) if x != 'nan' else np.nan)\n",
        "ratings[\"movie_id\"] = ratings[\"movie_id\"].apply(lambda x: str(x-1))\n",
        "ratings[\"user_id\"] = ratings[\"user_id\"].apply(lambda x: str(x-1))\n",
        "ratings[\"rating\"] = ratings[\"rating\"].apply(lambda x: float(x))"
      ],
      "metadata": {
        "id": "-xFSm_Tmjnfi"
      },
      "execution_count": 73,
      "outputs": []
    },
    {
      "cell_type": "code",
      "source": [
        "def map_ids_to_indices(data):\n",
        "    user_mapping = {user_id: index for index, user_id in enumerate(data[\"user_id\"].unique())}\n",
        "    movie_mapping = {movie_id: index for index, movie_id in enumerate(data[\"movie_id\"].unique())}\n",
        "\n",
        "    data[\"user_index\"] = data[\"user_id\"].map(user_mapping)\n",
        "    data[\"movie_index\"] = data[\"movie_id\"].map(movie_mapping)\n",
        "\n",
        "    return data"
      ],
      "metadata": {
        "id": "SI-w462QQQVT"
      },
      "execution_count": 57,
      "outputs": []
    },
    {
      "cell_type": "code",
      "source": [
        "# Create mappings for movieId and userId to unique indices\n",
        "ratings = map_ids_to_indices(ratings)\n",
        "\n",
        "# Define a custom dataset class\n",
        "class Dataset(Dataset):\n",
        "    def __init__(self, ratings_df):\n",
        "        self.user_indices = torch.tensor(ratings_df[\"user_index\"].values, dtype=torch.long)\n",
        "        self.movie_indices = torch.tensor(ratings_df[\"movie_index\"].values, dtype=torch.long)\n",
        "        self.ratings = torch.tensor(ratings_df[\"rating\"].values, dtype=torch.float32)\n",
        "\n",
        "    def __len__(self):\n",
        "        return len(self.user_indices)\n",
        "\n",
        "    def __getitem__(self, idx):\n",
        "        return self.user_indices[idx], self.movie_indices[idx], self.ratings[idx]\n",
        "\n",
        "# Create an instance of the custom dataset\n",
        "dataset = Dataset(ratings)\n",
        "# Create a batch for dataloader\n",
        "batch_size = 64\n",
        "dataloader = DataLoader(dataset, batch_size=batch_size, shuffle=True)\n",
        "\n"
      ],
      "metadata": {
        "id": "NjsW8-xxjp1f"
      },
      "execution_count": 44,
      "outputs": []
    },
    {
      "cell_type": "code",
      "source": [
        "num_users = len(ratings[\"user_id\"].unique())\n",
        "num_items = len(ratings[\"movie_id\"].unique())\n",
        "latent_dim = 5\n",
        "learning_rate = 0.001"
      ],
      "metadata": {
        "id": "ykbIHrwkjwUB"
      },
      "execution_count": 45,
      "outputs": []
    },
    {
      "cell_type": "code",
      "source": [
        "class Matrix_Factorization(nn.Module):\n",
        "  def __init__(self,num_users,num_items,latent_dim):\n",
        "    super(Matrix_Factorization,self).__init__()\n",
        "    self.user_embeddings = nn.Embedding(num_users,latent_dim)\n",
        "    self.item_embeddings = nn.Embedding(num_items,latent_dim)\n",
        "\n",
        "  def forward(self,user_indices,item_indices):\n",
        "      user_latent = self.user_embeddings(user_indices)\n",
        "      item_latent = self.item_embeddings(item_indices)\n",
        "      return torch.sum(user_latent*item_latent,dim=1)\n",
        "\n",
        "model = Matrix_Factorization(num_users,num_items,latent_dim)"
      ],
      "metadata": {
        "id": "FjEUxL-sjyI9"
      },
      "execution_count": 46,
      "outputs": []
    },
    {
      "cell_type": "code",
      "source": [
        "criterion = nn.MSELoss()\n",
        "optimizer = optim.SGD(model.parameters(), lr=learning_rate)"
      ],
      "metadata": {
        "id": "rKJUDcizjzfO"
      },
      "execution_count": 47,
      "outputs": []
    },
    {
      "cell_type": "code",
      "source": [
        "num_epochs = 5\n",
        "for epoch in range(num_epochs):\n",
        "    for user_indices, item_indices, true_ratings in dataloader:\n",
        "        optimizer.zero_grad()\n",
        "        predicted_ratings = model(user_indices, item_indices)\n",
        "        loss = criterion(predicted_ratings, true_ratings)\n",
        "        loss.backward()\n",
        "        optimizer.step()"
      ],
      "metadata": {
        "id": "0QRLxI4vj07p"
      },
      "execution_count": 48,
      "outputs": []
    },
    {
      "cell_type": "code",
      "source": [
        "# new_user = {\n",
        "#     'user_id': ...,\n",
        "#     'age': ...,\n",
        "#     'sex': ...,\n",
        "#     'job': ...,\n",
        "#     'zipcode': ...\n",
        "# }\n",
        "def solve_newuser(new_user,users_data,ratings_data,movies_data):\n",
        "  users_data.append(new_user,ignore_index=True)\n",
        "  ratings_data.drop(\"unix_timestamp\",axis=1,inplace=True)\n",
        "  new_data_users = [{'user_id': new_user.get(\"user_id\"), 'movie_id': movie_id, 'rating': ratings_data[\"rating\"].mean()}for movie_id in movies_data['movie_id']]\n",
        "  ratings_data = ratings_data.append(new_data_users,ignore_index=True)"
      ],
      "metadata": {
        "id": "VfUpEIHuj2F_"
      },
      "execution_count": null,
      "outputs": []
    },
    {
      "cell_type": "code",
      "source": [
        "# new_movie = {\n",
        "#     'movie_id': 1682,\n",
        "#     'title': \"Time Travel (2023)\",\n",
        "#     'imdb_url': \"\",\n",
        "#     'release_date' :'10/10/2023',\n",
        "#     'genre':\"Action, Adventure\"\n",
        "# }\n",
        "def solve_newmovie(new_movie,users_data,ratings_data,movies_data):\n",
        "    movies_data.drop(\"video_release_date\",axis=1,inplace=True)\n",
        "    movies_data.drop(\"release_date\",axis=1,inplace=True)\n",
        "\n",
        "    dict = []\n",
        "    for s in new_movie.get(\"genre\").split(','):\n",
        "      s = s.replace(' ','')\n",
        "      dict.append(s)\n",
        "\n",
        "    genre_mapping = {}\n",
        "    for genre in genre_cols:\n",
        "      if genre in dict:\n",
        "          genre_mapping[genre] = 1\n",
        "      else:\n",
        "          genre_mapping[genre] = 0\n",
        "\n",
        "    new_movie.update(genre_mapping)\n",
        "\n",
        "    new_movie[\"year\"] = new_movie[\"release_date\"].split('/')[-1]\n",
        "    new_movie.pop(\"release_date\")\n",
        "    new_movie.pop(\"genre\")\n",
        "    movies_data = movies_data.append(new_movie,ignore_index=True)\n",
        "    # movies_data = movies_data.set_index(\"movie_id\")\n",
        "\n",
        "    X = movies_data[[\"genre_unknown\",\"Action\",\"Adventure\",\"Animation\",\"Children\",\"Comedy\",\"Crime\",\"Documentary\",\"Drama\",\"Fantasy\",\"Film-Noir\",\"Horror\",\"Musical\",\"Mystery\",\"Romance\",\"Sci-Fi\",\"Thriller\",\"War\",\"Western\",\"year\"]]\n",
        "    X[\"year\"] = X[\"year\"].astype(int)\n",
        "\n",
        "    from sklearn.cluster import KMeans\n",
        "    kmeans = KMeans(n_clusters=5, random_state=0).fit(X)\n",
        "    pred_label = kmeans.predict(X)\n",
        "    new_movie_data = pd.DataFrame([new_movie])\n",
        "    new_movie_data = new_movie_data[[\"genre_unknown\", \"Action\", \"Adventure\", \"Animation\", \"Children\", \"Comedy\", \"Crime\", \"Documentary\", \"Drama\", \"Fantasy\", \"Film-Noir\", \"Horror\", \"Musical\", \"Mystery\", \"Romance\", \"Sci-Fi\", \"Thriller\", \"War\", \"Western\", \"year\"]]\n",
        "    predict = kmeans.predict(new_movie_data)\n",
        "    labels = kmeans.labels_\n",
        "    cluster_0_data = X[labels == 0]\n",
        "    cluster_1_data = X[labels == 1]\n",
        "    cluster_2_data = X[labels == 2]\n",
        "    cluster_3_data = X[labels == 3]\n",
        "    cluster_4_data = X[labels == 4]\n",
        "    index_values = cluster_0_data.index\n",
        "    # Convert the index values to a list if needed\n",
        "    index_list = index_values.tolist()\n",
        "    filtered_movies = ratings_data[ratings_data['movie_id'].isin(index_list)]\n",
        "    new_data_movies = [{'user_id': user_id, 'movie_id': new_movie.get(\"movie_id\"), 'rating': ratings_data[\"rating\"].mean()}for user_id in users_data['user_id']]\n",
        "    # ratings_data.drop(\"movie_index\",axis=1,inplace=True)\n",
        "    # ratings_data.drop(\"user_index\",axis=1,inplace=True)\n",
        "    ratings_data = ratings_data.append(new_data_movies,ignore_index=True)"
      ],
      "metadata": {
        "id": "83gqspXmmc5o"
      },
      "execution_count": 108,
      "outputs": []
    },
    {
      "cell_type": "code",
      "source": [
        "from torch.utils.data import DataLoader, TensorDataset\n",
        "# Đọc dữ liệu từ tệp u1.base và xây dựng tập dữ liệu huấn luyện\n",
        "# train_data = pd.read_csv(\"/content/drive/MyDrive/ml-100k/u1.base\", sep='\\t', names=[\"user_id\", \"movie_id\", \"rating\", \"timestamp\"])\n",
        "\n",
        "train_data = map_ids_to_indices(train_data)\n",
        "# Xây dựng mô hình Matrix Factorization\n",
        "model = Matrix_Factorization(num_users, num_items, latent_dim)\n",
        "\n",
        "\n",
        "# Chuyển dữ liệu huấn luyện thành các tensors PyTorch\n",
        "train_dataset = Dataset(train_data)\n",
        "\n",
        "# Tạo DataLoader cho batching\n",
        "batch_size = 64\n",
        "dataloader = DataLoader(train_dataset, batch_size=batch_size, shuffle=True)\n",
        "\n",
        "criterion = nn.MSELoss()\n",
        "optimizer = optim.Adam(model.parameters(), lr=learning_rate)\n",
        "num_epochs = 20\n",
        "for epoch in range(num_epochs):\n",
        "    for user_indices, item_indices, true_ratings in dataloader:\n",
        "        optimizer.zero_grad()\n",
        "        predicted_ratings = model(user_indices, item_indices)\n",
        "        loss = criterion(predicted_ratings, true_ratings)\n",
        "        loss.backward()\n",
        "        optimizer.step()\n"
      ],
      "metadata": {
        "id": "CG7vF3f-quQ9"
      },
      "execution_count": 111,
      "outputs": []
    },
    {
      "cell_type": "code",
      "source": [
        "test_ratings = pd.read_csv(\"/content/drive/MyDrive/ml-100k/u2.test\", sep='\\t', names=[\"user_id\", \"movie_id\", \"rating\", \"timestamp\"])\n",
        "\n",
        "# Chuyển đổi chỉ mục cho dữ liệu kiểm thử\n",
        "test_ratings = map_ids_to_indices(test_ratings)\n",
        "user_indices = torch.tensor(test_ratings[\"user_index\"].values, dtype=torch.long)\n",
        "movie_indices = torch.tensor(test_ratings[\"movie_index\"].values, dtype=torch.long)\n",
        "\n",
        "# Sử dụng mô hình để đưa ra dự đoán\n",
        "predicted_ratings = model(user_indices,movie_indices)\n",
        "predicted_ratings = predicted_ratings.detach().numpy()\n",
        "# So sánh dự đoán và giá trị thực tế\n",
        "from sklearn.metrics import mean_squared_error\n",
        "rmse = mean_squared_error(predicted_ratings, test_ratings[\"rating\"], squared=False)\n",
        "print(f\"RMSE on test data: {rmse}\")\n"
      ],
      "metadata": {
        "colab": {
          "base_uri": "https://localhost:8080/"
        },
        "id": "wHL5dVwWA497",
        "outputId": "a820b15e-3726-4041-c8a9-3e95aa456e6e"
      },
      "execution_count": 56,
      "outputs": [
        {
          "output_type": "stream",
          "name": "stdout",
          "text": [
            "RMSE on test data: 1.5172575434821483\n"
          ]
        }
      ]
    },
    {
      "cell_type": "code",
      "source": [
        "new_movie = {\n",
        "    'movie_id' : 0,\n",
        "    'title' : \"Toy Story (1995)\",\n",
        "    'imdb_url' : \"http://us.imdb.com/M/title-exact?Toy%20Story%20(1995)\",\n",
        "    'release_date' : '01/01/1995',\n",
        "    'genre' : \"Animation, Children, Comedy, Crime\"\n",
        "}"
      ],
      "metadata": {
        "id": "NYsOQswiBtMV"
      },
      "execution_count": 109,
      "outputs": []
    },
    {
      "cell_type": "code",
      "source": [
        "users = pd.read_csv('/content/drive/MyDrive/ml-100k/u.user',sep='|', names=user_cols, encoding='latin-1')\n",
        "movies = pd.read_csv('/content/drive/MyDrive/ml-100k/u.item', sep='|', names=movies_cols, encoding='latin-1')\n",
        "train_data = pd.read_csv(\"/content/drive/MyDrive/ml-100k/u1.base\", sep='\\t', names=[\"user_id\", \"movie_id\", \"rating\", \"timestamp\"])\n",
        "users[\"user_id\"] = users[\"user_id\"].astype(int)\n",
        "movies['release_date'] = movies['release_date'].fillna('0-0-0')\n",
        "# Since the ids start at 1, we shift them to start at 0\n",
        "users['user_id'] = users['user_id'].apply(lambda x: str(x-1))\n",
        "movies['movie_id'] = movies['movie_id'].apply(lambda x: str(x-1))\n",
        "movies['year'] = movies['release_date'].apply(lambda x: int(str(x).split('-')[-1]) if x != 'nan' else np.nan)\n",
        "movies = movies[movies['movie_id'] != '0']\n",
        "train_data = train_data[train_data['movie_id'] != '0']\n",
        "\n",
        "solve_newmovie(new_movie=new_movie,\n",
        "               users_data = users,\n",
        "               movies_data = movies,\n",
        "               ratings_data=train_data)"
      ],
      "metadata": {
        "colab": {
          "base_uri": "https://localhost:8080/"
        },
        "id": "b7mpYehvD1V1",
        "outputId": "4e01c57d-b467-4f90-d1b1-8b20da154d5f"
      },
      "execution_count": 110,
      "outputs": [
        {
          "output_type": "stream",
          "name": "stderr",
          "text": [
            "<ipython-input-108-5ed796fd9881>:29: FutureWarning: The frame.append method is deprecated and will be removed from pandas in a future version. Use pandas.concat instead.\n",
            "  movies_data = movies_data.append(new_movie,ignore_index=True)\n",
            "<ipython-input-108-5ed796fd9881>:33: SettingWithCopyWarning: \n",
            "A value is trying to be set on a copy of a slice from a DataFrame.\n",
            "Try using .loc[row_indexer,col_indexer] = value instead\n",
            "\n",
            "See the caveats in the documentation: https://pandas.pydata.org/pandas-docs/stable/user_guide/indexing.html#returning-a-view-versus-a-copy\n",
            "  X[\"year\"] = X[\"year\"].astype(int)\n",
            "/usr/local/lib/python3.10/dist-packages/sklearn/cluster/_kmeans.py:870: FutureWarning: The default value of `n_init` will change from 10 to 'auto' in 1.4. Set the value of `n_init` explicitly to suppress the warning\n",
            "  warnings.warn(\n",
            "<ipython-input-108-5ed796fd9881>:54: FutureWarning: The frame.append method is deprecated and will be removed from pandas in a future version. Use pandas.concat instead.\n",
            "  ratings_data = ratings_data.append(new_data_movies,ignore_index=True)\n"
          ]
        }
      ]
    },
    {
      "cell_type": "code",
      "source": [
        "test_ratings = pd.read_csv(\"/content/drive/MyDrive/ml-100k/u1.test\", sep='\\t', names=[\"user_id\", \"movie_id\", \"rating\", \"timestamp\"])\n",
        "# Chuyển đổi chỉ mục cho dữ liệu kiểm thử\n",
        "test_ratings = map_ids_to_indices(test_ratings)\n",
        "\n",
        "user_indices = torch.tensor(test_ratings[\"user_index\"].values, dtype=torch.long)\n",
        "movie_indices = torch.tensor(test_ratings[\"movie_index\"].values, dtype=torch.long)\n",
        "\n",
        "# Sử dụng mô hình để đưa ra dự đoán\n",
        "predicted_ratings = model(user_indices,movie_indices)\n",
        "predicted_ratings = predicted_ratings.detach().numpy()\n",
        "# So sánh dự đoán và giá trị thực tế\n",
        "from sklearn.metrics import mean_squared_error\n",
        "rmse = mean_squared_error(predicted_ratings, test_ratings[\"rating\"], squared=False)\n",
        "print(f\"RMSE on test data: {rmse}\")\n"
      ],
      "metadata": {
        "colab": {
          "base_uri": "https://localhost:8080/"
        },
        "id": "Aj12FRO8FwDV",
        "outputId": "cfad33a9-356b-474c-872d-b872b747cbd6"
      },
      "execution_count": 112,
      "outputs": [
        {
          "output_type": "stream",
          "name": "stdout",
          "text": [
            "RMSE on test data: 1.599934231853058\n"
          ]
        }
      ]
    },
    {
      "cell_type": "code",
      "source": [],
      "metadata": {
        "id": "1dmAntSjYr1m"
      },
      "execution_count": null,
      "outputs": []
    }
  ]
}